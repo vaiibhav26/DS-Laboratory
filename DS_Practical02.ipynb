{
 "cells": [
  {
   "cell_type": "markdown",
   "id": "9bc20e63",
   "metadata": {},
   "source": [
    "\n",
    "Data Wrangling II Create an “Academic performance” dataset of students and perform the following operations using Python.\n",
    "\n",
    "1. Scan all variables for missing values and inconsistencies. If there are missing values and/or inconsistencies, use any of the suitable techniques to deal with them.\n",
    "2. Scan all numeric variables for outliers. If there are outliers, use any of the suitable techniques to deal with them.\n",
    "3. Apply data transformations on at least one of the variables. The purpose of this transformation should be one of the following reasons: to change the scale for better understanding of the variable, to convert a non-linear relation into a linear one, or to decrease the skewness and convert the distribution into a normal distribution. Reason and document your approach properly."
   ]
  },
  {
   "cell_type": "code",
   "execution_count": 2,
   "id": "4ef2881b",
   "metadata": {},
   "outputs": [],
   "source": [
    "# Import the required libraries\n",
    "import pandas as pd\n",
    "import numpy as np\n",
    "import matplotlib.pyplot as plt \n",
    "import seaborn as sns\n",
    "%matplotlib inline"
   ]
  },
  {
   "cell_type": "code",
   "execution_count": 4,
   "id": "55a72d6c",
   "metadata": {},
   "outputs": [],
   "source": [
    "# Read the csv file\n",
    "data = pd.read_csv(\"2nd-student-academic.csv\")"
   ]
  },
  {
   "cell_type": "code",
   "execution_count": 5,
   "id": "4eb5b63d",
   "metadata": {},
   "outputs": [
    {
     "data": {
      "text/html": [
       "<div>\n",
       "<style scoped>\n",
       "    .dataframe tbody tr th:only-of-type {\n",
       "        vertical-align: middle;\n",
       "    }\n",
       "\n",
       "    .dataframe tbody tr th {\n",
       "        vertical-align: top;\n",
       "    }\n",
       "\n",
       "    .dataframe thead th {\n",
       "        text-align: right;\n",
       "    }\n",
       "</style>\n",
       "<table border=\"1\" class=\"dataframe\">\n",
       "  <thead>\n",
       "    <tr style=\"text-align: right;\">\n",
       "      <th></th>\n",
       "      <th>Timestamp</th>\n",
       "      <th>Email Address</th>\n",
       "      <th>Name</th>\n",
       "      <th>Email</th>\n",
       "      <th>Roll no</th>\n",
       "      <th>PRN No.</th>\n",
       "      <th>Mobile No.</th>\n",
       "      <th>First year:   Sem 1</th>\n",
       "      <th>First year:   Sem 2</th>\n",
       "      <th>Second year:   Sem 1</th>\n",
       "      <th>Second year:   Sem 2</th>\n",
       "    </tr>\n",
       "  </thead>\n",
       "  <tbody>\n",
       "    <tr>\n",
       "      <th>0</th>\n",
       "      <td>1/17/2022 12:45:09</td>\n",
       "      <td>sejal.zambare19@pccoepune.org</td>\n",
       "      <td>Sejal Zambare</td>\n",
       "      <td>sejal.zambare19@gmail.com</td>\n",
       "      <td>TECOC359</td>\n",
       "      <td>72026841K</td>\n",
       "      <td>8208217782</td>\n",
       "      <td>8.40</td>\n",
       "      <td>8.60</td>\n",
       "      <td>9.80</td>\n",
       "      <td>9.90</td>\n",
       "    </tr>\n",
       "    <tr>\n",
       "      <th>1</th>\n",
       "      <td>1/17/2022 12:45:44</td>\n",
       "      <td>rushikesh.thorat19@pccoepune.org</td>\n",
       "      <td>Rushikesh Vilas Thorat</td>\n",
       "      <td>rushikesh.thorat19@pccoepune.org</td>\n",
       "      <td>TECOC347</td>\n",
       "      <td>72026776F</td>\n",
       "      <td>9021261925</td>\n",
       "      <td>8.14</td>\n",
       "      <td>8.14</td>\n",
       "      <td>9.32</td>\n",
       "      <td>9.82</td>\n",
       "    </tr>\n",
       "    <tr>\n",
       "      <th>2</th>\n",
       "      <td>1/17/2022 12:46:10</td>\n",
       "      <td>atharv.sontakke19@pccoepune.org</td>\n",
       "      <td>Atharv Sontakke</td>\n",
       "      <td>atharv123sontakke@gmail.com</td>\n",
       "      <td>TECOC340</td>\n",
       "      <td>72026742M</td>\n",
       "      <td>9009804629</td>\n",
       "      <td>6.61</td>\n",
       "      <td>6.61</td>\n",
       "      <td>9.14</td>\n",
       "      <td>9.14</td>\n",
       "    </tr>\n",
       "    <tr>\n",
       "      <th>3</th>\n",
       "      <td>1/17/2022 12:46:21</td>\n",
       "      <td>amisha.sherekar19@pccoepune.org</td>\n",
       "      <td>Amisha Sunil Sherekar</td>\n",
       "      <td>amisha.sherekar19@pccoepune.org</td>\n",
       "      <td>TECOC328</td>\n",
       "      <td>72026696D</td>\n",
       "      <td>8698227548</td>\n",
       "      <td>7.20</td>\n",
       "      <td>7.30</td>\n",
       "      <td>8.90</td>\n",
       "      <td>9.20</td>\n",
       "    </tr>\n",
       "    <tr>\n",
       "      <th>4</th>\n",
       "      <td>1/17/2022 12:46:31</td>\n",
       "      <td>saurabh.sawardekar19@pccoepune.org</td>\n",
       "      <td>Saurabh Raju Sawardekar</td>\n",
       "      <td>saurabh.sawardekar19@pccoepune.org</td>\n",
       "      <td>TECOC326</td>\n",
       "      <td>72026682D</td>\n",
       "      <td>7774072850</td>\n",
       "      <td>7.05</td>\n",
       "      <td>7.45</td>\n",
       "      <td>9.05</td>\n",
       "      <td>9.40</td>\n",
       "    </tr>\n",
       "    <tr>\n",
       "      <th>...</th>\n",
       "      <td>...</td>\n",
       "      <td>...</td>\n",
       "      <td>...</td>\n",
       "      <td>...</td>\n",
       "      <td>...</td>\n",
       "      <td>...</td>\n",
       "      <td>...</td>\n",
       "      <td>...</td>\n",
       "      <td>...</td>\n",
       "      <td>...</td>\n",
       "      <td>...</td>\n",
       "    </tr>\n",
       "    <tr>\n",
       "      <th>59</th>\n",
       "      <td>1/20/2022 9:24:40</td>\n",
       "      <td>pratik.meshram20@pccoepune.org</td>\n",
       "      <td>Pratik Amrut Meshram</td>\n",
       "      <td>pratik.meshram20@pccoepune.org</td>\n",
       "      <td>TECOC381</td>\n",
       "      <td>72164278M</td>\n",
       "      <td>7666479857</td>\n",
       "      <td>0.00</td>\n",
       "      <td>0.00</td>\n",
       "      <td>9.09</td>\n",
       "      <td>9.36</td>\n",
       "    </tr>\n",
       "    <tr>\n",
       "      <th>60</th>\n",
       "      <td>1/20/2022 9:36:14</td>\n",
       "      <td>prasad.zore19@pccoepune.org</td>\n",
       "      <td>Prasad Zore</td>\n",
       "      <td>prasad.zore@outlook.com</td>\n",
       "      <td>TECOC360</td>\n",
       "      <td>72026843F</td>\n",
       "      <td>7387645749</td>\n",
       "      <td>8.31</td>\n",
       "      <td>8.27</td>\n",
       "      <td>9.45</td>\n",
       "      <td>9.77</td>\n",
       "    </tr>\n",
       "    <tr>\n",
       "      <th>61</th>\n",
       "      <td>1/20/2022 9:42:34</td>\n",
       "      <td>sudhir.varu19@pccoepune.org</td>\n",
       "      <td>SUDHIR VARU</td>\n",
       "      <td>sudhirvaru01@gmail.com</td>\n",
       "      <td>TECOC351</td>\n",
       "      <td>72026799E</td>\n",
       "      <td>9657017250</td>\n",
       "      <td>8.31</td>\n",
       "      <td>8.42</td>\n",
       "      <td>8.53</td>\n",
       "      <td>8.64</td>\n",
       "    </tr>\n",
       "    <tr>\n",
       "      <th>62</th>\n",
       "      <td>1/20/2022 10:22:05</td>\n",
       "      <td>bhagyashree.takale19@pccoepune.org</td>\n",
       "      <td>Bhagyashree Gorakh Takale</td>\n",
       "      <td>bbhagyashree002@gmail.com</td>\n",
       "      <td>TECOC345</td>\n",
       "      <td>72026760K</td>\n",
       "      <td>8805813576</td>\n",
       "      <td>8.70</td>\n",
       "      <td>8.50</td>\n",
       "      <td>8.70</td>\n",
       "      <td>8.80</td>\n",
       "    </tr>\n",
       "    <tr>\n",
       "      <th>63</th>\n",
       "      <td>1/20/2022 10:38:06</td>\n",
       "      <td>sarvesh.waghmare19@pccoepune.org</td>\n",
       "      <td>Waghmare Sarvesh Jitendra</td>\n",
       "      <td>sarvesh.waghmare19@pccoepune.org</td>\n",
       "      <td>TECOC356</td>\n",
       "      <td>72026817G</td>\n",
       "      <td>7218935035</td>\n",
       "      <td>6.90</td>\n",
       "      <td>7.07</td>\n",
       "      <td>9.05</td>\n",
       "      <td>9.20</td>\n",
       "    </tr>\n",
       "  </tbody>\n",
       "</table>\n",
       "<p>64 rows × 11 columns</p>\n",
       "</div>"
      ],
      "text/plain": [
       "             Timestamp                       Email Address  \\\n",
       "0   1/17/2022 12:45:09       sejal.zambare19@pccoepune.org   \n",
       "1   1/17/2022 12:45:44    rushikesh.thorat19@pccoepune.org   \n",
       "2   1/17/2022 12:46:10     atharv.sontakke19@pccoepune.org   \n",
       "3   1/17/2022 12:46:21     amisha.sherekar19@pccoepune.org   \n",
       "4   1/17/2022 12:46:31  saurabh.sawardekar19@pccoepune.org   \n",
       "..                 ...                                 ...   \n",
       "59   1/20/2022 9:24:40      pratik.meshram20@pccoepune.org   \n",
       "60   1/20/2022 9:36:14         prasad.zore19@pccoepune.org   \n",
       "61   1/20/2022 9:42:34         sudhir.varu19@pccoepune.org   \n",
       "62  1/20/2022 10:22:05  bhagyashree.takale19@pccoepune.org   \n",
       "63  1/20/2022 10:38:06    sarvesh.waghmare19@pccoepune.org   \n",
       "\n",
       "                         Name                               Email  Roll no   \\\n",
       "0               Sejal Zambare           sejal.zambare19@gmail.com  TECOC359   \n",
       "1      Rushikesh Vilas Thorat    rushikesh.thorat19@pccoepune.org  TECOC347   \n",
       "2             Atharv Sontakke         atharv123sontakke@gmail.com  TECOC340   \n",
       "3       Amisha Sunil Sherekar     amisha.sherekar19@pccoepune.org  TECOC328   \n",
       "4     Saurabh Raju Sawardekar  saurabh.sawardekar19@pccoepune.org  TECOC326   \n",
       "..                        ...                                 ...       ...   \n",
       "59       Pratik Amrut Meshram      pratik.meshram20@pccoepune.org  TECOC381   \n",
       "60                Prasad Zore             prasad.zore@outlook.com  TECOC360   \n",
       "61                SUDHIR VARU              sudhirvaru01@gmail.com  TECOC351   \n",
       "62  Bhagyashree Gorakh Takale           bbhagyashree002@gmail.com  TECOC345   \n",
       "63  Waghmare Sarvesh Jitendra    sarvesh.waghmare19@pccoepune.org  TECOC356   \n",
       "\n",
       "      PRN No.  Mobile No.  First year:   Sem 1  First year:   Sem 2  \\\n",
       "0   72026841K  8208217782                 8.40                 8.60   \n",
       "1   72026776F  9021261925                 8.14                 8.14   \n",
       "2   72026742M  9009804629                 6.61                 6.61   \n",
       "3   72026696D  8698227548                 7.20                 7.30   \n",
       "4   72026682D  7774072850                 7.05                 7.45   \n",
       "..        ...         ...                  ...                  ...   \n",
       "59  72164278M  7666479857                 0.00                 0.00   \n",
       "60  72026843F  7387645749                 8.31                 8.27   \n",
       "61  72026799E  9657017250                 8.31                 8.42   \n",
       "62  72026760K  8805813576                 8.70                 8.50   \n",
       "63  72026817G  7218935035                 6.90                 7.07   \n",
       "\n",
       "    Second year:   Sem 1  Second year:   Sem 2  \n",
       "0                   9.80                  9.90  \n",
       "1                   9.32                  9.82  \n",
       "2                   9.14                  9.14  \n",
       "3                   8.90                  9.20  \n",
       "4                   9.05                  9.40  \n",
       "..                   ...                   ...  \n",
       "59                  9.09                  9.36  \n",
       "60                  9.45                  9.77  \n",
       "61                  8.53                  8.64  \n",
       "62                  8.70                  8.80  \n",
       "63                  9.05                  9.20  \n",
       "\n",
       "[64 rows x 11 columns]"
      ]
     },
     "execution_count": 5,
     "metadata": {},
     "output_type": "execute_result"
    }
   ],
   "source": [
    "data"
   ]
  },
  {
   "cell_type": "code",
   "execution_count": 6,
   "id": "cfbd2162",
   "metadata": {},
   "outputs": [
    {
     "name": "stdout",
     "output_type": "stream",
     "text": [
      "The first five rows are as follows: \n"
     ]
    },
    {
     "data": {
      "text/html": [
       "<div>\n",
       "<style scoped>\n",
       "    .dataframe tbody tr th:only-of-type {\n",
       "        vertical-align: middle;\n",
       "    }\n",
       "\n",
       "    .dataframe tbody tr th {\n",
       "        vertical-align: top;\n",
       "    }\n",
       "\n",
       "    .dataframe thead th {\n",
       "        text-align: right;\n",
       "    }\n",
       "</style>\n",
       "<table border=\"1\" class=\"dataframe\">\n",
       "  <thead>\n",
       "    <tr style=\"text-align: right;\">\n",
       "      <th></th>\n",
       "      <th>Timestamp</th>\n",
       "      <th>Email Address</th>\n",
       "      <th>Name</th>\n",
       "      <th>Email</th>\n",
       "      <th>Roll no</th>\n",
       "      <th>PRN No.</th>\n",
       "      <th>Mobile No.</th>\n",
       "      <th>First year:   Sem 1</th>\n",
       "      <th>First year:   Sem 2</th>\n",
       "      <th>Second year:   Sem 1</th>\n",
       "      <th>Second year:   Sem 2</th>\n",
       "    </tr>\n",
       "  </thead>\n",
       "  <tbody>\n",
       "    <tr>\n",
       "      <th>0</th>\n",
       "      <td>1/17/2022 12:45:09</td>\n",
       "      <td>sejal.zambare19@pccoepune.org</td>\n",
       "      <td>Sejal Zambare</td>\n",
       "      <td>sejal.zambare19@gmail.com</td>\n",
       "      <td>TECOC359</td>\n",
       "      <td>72026841K</td>\n",
       "      <td>8208217782</td>\n",
       "      <td>8.40</td>\n",
       "      <td>8.60</td>\n",
       "      <td>9.80</td>\n",
       "      <td>9.90</td>\n",
       "    </tr>\n",
       "    <tr>\n",
       "      <th>1</th>\n",
       "      <td>1/17/2022 12:45:44</td>\n",
       "      <td>rushikesh.thorat19@pccoepune.org</td>\n",
       "      <td>Rushikesh Vilas Thorat</td>\n",
       "      <td>rushikesh.thorat19@pccoepune.org</td>\n",
       "      <td>TECOC347</td>\n",
       "      <td>72026776F</td>\n",
       "      <td>9021261925</td>\n",
       "      <td>8.14</td>\n",
       "      <td>8.14</td>\n",
       "      <td>9.32</td>\n",
       "      <td>9.82</td>\n",
       "    </tr>\n",
       "    <tr>\n",
       "      <th>2</th>\n",
       "      <td>1/17/2022 12:46:10</td>\n",
       "      <td>atharv.sontakke19@pccoepune.org</td>\n",
       "      <td>Atharv Sontakke</td>\n",
       "      <td>atharv123sontakke@gmail.com</td>\n",
       "      <td>TECOC340</td>\n",
       "      <td>72026742M</td>\n",
       "      <td>9009804629</td>\n",
       "      <td>6.61</td>\n",
       "      <td>6.61</td>\n",
       "      <td>9.14</td>\n",
       "      <td>9.14</td>\n",
       "    </tr>\n",
       "    <tr>\n",
       "      <th>3</th>\n",
       "      <td>1/17/2022 12:46:21</td>\n",
       "      <td>amisha.sherekar19@pccoepune.org</td>\n",
       "      <td>Amisha Sunil Sherekar</td>\n",
       "      <td>amisha.sherekar19@pccoepune.org</td>\n",
       "      <td>TECOC328</td>\n",
       "      <td>72026696D</td>\n",
       "      <td>8698227548</td>\n",
       "      <td>7.20</td>\n",
       "      <td>7.30</td>\n",
       "      <td>8.90</td>\n",
       "      <td>9.20</td>\n",
       "    </tr>\n",
       "    <tr>\n",
       "      <th>4</th>\n",
       "      <td>1/17/2022 12:46:31</td>\n",
       "      <td>saurabh.sawardekar19@pccoepune.org</td>\n",
       "      <td>Saurabh Raju Sawardekar</td>\n",
       "      <td>saurabh.sawardekar19@pccoepune.org</td>\n",
       "      <td>TECOC326</td>\n",
       "      <td>72026682D</td>\n",
       "      <td>7774072850</td>\n",
       "      <td>7.05</td>\n",
       "      <td>7.45</td>\n",
       "      <td>9.05</td>\n",
       "      <td>9.40</td>\n",
       "    </tr>\n",
       "  </tbody>\n",
       "</table>\n",
       "</div>"
      ],
      "text/plain": [
       "            Timestamp                       Email Address  \\\n",
       "0  1/17/2022 12:45:09       sejal.zambare19@pccoepune.org   \n",
       "1  1/17/2022 12:45:44    rushikesh.thorat19@pccoepune.org   \n",
       "2  1/17/2022 12:46:10     atharv.sontakke19@pccoepune.org   \n",
       "3  1/17/2022 12:46:21     amisha.sherekar19@pccoepune.org   \n",
       "4  1/17/2022 12:46:31  saurabh.sawardekar19@pccoepune.org   \n",
       "\n",
       "                      Name                               Email  Roll no   \\\n",
       "0            Sejal Zambare           sejal.zambare19@gmail.com  TECOC359   \n",
       "1   Rushikesh Vilas Thorat    rushikesh.thorat19@pccoepune.org  TECOC347   \n",
       "2          Atharv Sontakke         atharv123sontakke@gmail.com  TECOC340   \n",
       "3    Amisha Sunil Sherekar     amisha.sherekar19@pccoepune.org  TECOC328   \n",
       "4  Saurabh Raju Sawardekar  saurabh.sawardekar19@pccoepune.org  TECOC326   \n",
       "\n",
       "     PRN No.  Mobile No.  First year:   Sem 1  First year:   Sem 2  \\\n",
       "0  72026841K  8208217782                 8.40                 8.60   \n",
       "1  72026776F  9021261925                 8.14                 8.14   \n",
       "2  72026742M  9009804629                 6.61                 6.61   \n",
       "3  72026696D  8698227548                 7.20                 7.30   \n",
       "4  72026682D  7774072850                 7.05                 7.45   \n",
       "\n",
       "   Second year:   Sem 1  Second year:   Sem 2  \n",
       "0                  9.80                  9.90  \n",
       "1                  9.32                  9.82  \n",
       "2                  9.14                  9.14  \n",
       "3                  8.90                  9.20  \n",
       "4                  9.05                  9.40  "
      ]
     },
     "execution_count": 6,
     "metadata": {},
     "output_type": "execute_result"
    }
   ],
   "source": [
    "print(\"The first five rows are as follows: \")\n",
    "data.head()"
   ]
  },
  {
   "cell_type": "code",
   "execution_count": 7,
   "id": "cd2461f5",
   "metadata": {},
   "outputs": [
    {
     "name": "stdout",
     "output_type": "stream",
     "text": [
      "The last five rows are as follows: \n"
     ]
    },
    {
     "data": {
      "text/html": [
       "<div>\n",
       "<style scoped>\n",
       "    .dataframe tbody tr th:only-of-type {\n",
       "        vertical-align: middle;\n",
       "    }\n",
       "\n",
       "    .dataframe tbody tr th {\n",
       "        vertical-align: top;\n",
       "    }\n",
       "\n",
       "    .dataframe thead th {\n",
       "        text-align: right;\n",
       "    }\n",
       "</style>\n",
       "<table border=\"1\" class=\"dataframe\">\n",
       "  <thead>\n",
       "    <tr style=\"text-align: right;\">\n",
       "      <th></th>\n",
       "      <th>Timestamp</th>\n",
       "      <th>Email Address</th>\n",
       "      <th>Name</th>\n",
       "      <th>Email</th>\n",
       "      <th>Roll no</th>\n",
       "      <th>PRN No.</th>\n",
       "      <th>Mobile No.</th>\n",
       "      <th>First year:   Sem 1</th>\n",
       "      <th>First year:   Sem 2</th>\n",
       "      <th>Second year:   Sem 1</th>\n",
       "      <th>Second year:   Sem 2</th>\n",
       "    </tr>\n",
       "  </thead>\n",
       "  <tbody>\n",
       "    <tr>\n",
       "      <th>59</th>\n",
       "      <td>1/20/2022 9:24:40</td>\n",
       "      <td>pratik.meshram20@pccoepune.org</td>\n",
       "      <td>Pratik Amrut Meshram</td>\n",
       "      <td>pratik.meshram20@pccoepune.org</td>\n",
       "      <td>TECOC381</td>\n",
       "      <td>72164278M</td>\n",
       "      <td>7666479857</td>\n",
       "      <td>0.00</td>\n",
       "      <td>0.00</td>\n",
       "      <td>9.09</td>\n",
       "      <td>9.36</td>\n",
       "    </tr>\n",
       "    <tr>\n",
       "      <th>60</th>\n",
       "      <td>1/20/2022 9:36:14</td>\n",
       "      <td>prasad.zore19@pccoepune.org</td>\n",
       "      <td>Prasad Zore</td>\n",
       "      <td>prasad.zore@outlook.com</td>\n",
       "      <td>TECOC360</td>\n",
       "      <td>72026843F</td>\n",
       "      <td>7387645749</td>\n",
       "      <td>8.31</td>\n",
       "      <td>8.27</td>\n",
       "      <td>9.45</td>\n",
       "      <td>9.77</td>\n",
       "    </tr>\n",
       "    <tr>\n",
       "      <th>61</th>\n",
       "      <td>1/20/2022 9:42:34</td>\n",
       "      <td>sudhir.varu19@pccoepune.org</td>\n",
       "      <td>SUDHIR VARU</td>\n",
       "      <td>sudhirvaru01@gmail.com</td>\n",
       "      <td>TECOC351</td>\n",
       "      <td>72026799E</td>\n",
       "      <td>9657017250</td>\n",
       "      <td>8.31</td>\n",
       "      <td>8.42</td>\n",
       "      <td>8.53</td>\n",
       "      <td>8.64</td>\n",
       "    </tr>\n",
       "    <tr>\n",
       "      <th>62</th>\n",
       "      <td>1/20/2022 10:22:05</td>\n",
       "      <td>bhagyashree.takale19@pccoepune.org</td>\n",
       "      <td>Bhagyashree Gorakh Takale</td>\n",
       "      <td>bbhagyashree002@gmail.com</td>\n",
       "      <td>TECOC345</td>\n",
       "      <td>72026760K</td>\n",
       "      <td>8805813576</td>\n",
       "      <td>8.70</td>\n",
       "      <td>8.50</td>\n",
       "      <td>8.70</td>\n",
       "      <td>8.80</td>\n",
       "    </tr>\n",
       "    <tr>\n",
       "      <th>63</th>\n",
       "      <td>1/20/2022 10:38:06</td>\n",
       "      <td>sarvesh.waghmare19@pccoepune.org</td>\n",
       "      <td>Waghmare Sarvesh Jitendra</td>\n",
       "      <td>sarvesh.waghmare19@pccoepune.org</td>\n",
       "      <td>TECOC356</td>\n",
       "      <td>72026817G</td>\n",
       "      <td>7218935035</td>\n",
       "      <td>6.90</td>\n",
       "      <td>7.07</td>\n",
       "      <td>9.05</td>\n",
       "      <td>9.20</td>\n",
       "    </tr>\n",
       "  </tbody>\n",
       "</table>\n",
       "</div>"
      ],
      "text/plain": [
       "             Timestamp                       Email Address  \\\n",
       "59   1/20/2022 9:24:40      pratik.meshram20@pccoepune.org   \n",
       "60   1/20/2022 9:36:14         prasad.zore19@pccoepune.org   \n",
       "61   1/20/2022 9:42:34         sudhir.varu19@pccoepune.org   \n",
       "62  1/20/2022 10:22:05  bhagyashree.takale19@pccoepune.org   \n",
       "63  1/20/2022 10:38:06    sarvesh.waghmare19@pccoepune.org   \n",
       "\n",
       "                         Name                             Email  Roll no   \\\n",
       "59       Pratik Amrut Meshram    pratik.meshram20@pccoepune.org  TECOC381   \n",
       "60                Prasad Zore           prasad.zore@outlook.com  TECOC360   \n",
       "61                SUDHIR VARU            sudhirvaru01@gmail.com  TECOC351   \n",
       "62  Bhagyashree Gorakh Takale         bbhagyashree002@gmail.com  TECOC345   \n",
       "63  Waghmare Sarvesh Jitendra  sarvesh.waghmare19@pccoepune.org  TECOC356   \n",
       "\n",
       "      PRN No.  Mobile No.  First year:   Sem 1  First year:   Sem 2  \\\n",
       "59  72164278M  7666479857                 0.00                 0.00   \n",
       "60  72026843F  7387645749                 8.31                 8.27   \n",
       "61  72026799E  9657017250                 8.31                 8.42   \n",
       "62  72026760K  8805813576                 8.70                 8.50   \n",
       "63  72026817G  7218935035                 6.90                 7.07   \n",
       "\n",
       "    Second year:   Sem 1  Second year:   Sem 2  \n",
       "59                  9.09                  9.36  \n",
       "60                  9.45                  9.77  \n",
       "61                  8.53                  8.64  \n",
       "62                  8.70                  8.80  \n",
       "63                  9.05                  9.20  "
      ]
     },
     "execution_count": 7,
     "metadata": {},
     "output_type": "execute_result"
    }
   ],
   "source": [
    "print(\"The last five rows are as follows: \")\n",
    "data.tail()"
   ]
  },
  {
   "cell_type": "code",
   "execution_count": 8,
   "id": "548f6c8a",
   "metadata": {},
   "outputs": [
    {
     "data": {
      "text/html": [
       "<div>\n",
       "<style scoped>\n",
       "    .dataframe tbody tr th:only-of-type {\n",
       "        vertical-align: middle;\n",
       "    }\n",
       "\n",
       "    .dataframe tbody tr th {\n",
       "        vertical-align: top;\n",
       "    }\n",
       "\n",
       "    .dataframe thead th {\n",
       "        text-align: right;\n",
       "    }\n",
       "</style>\n",
       "<table border=\"1\" class=\"dataframe\">\n",
       "  <thead>\n",
       "    <tr style=\"text-align: right;\">\n",
       "      <th></th>\n",
       "      <th>Mobile No.</th>\n",
       "      <th>First year:   Sem 1</th>\n",
       "      <th>First year:   Sem 2</th>\n",
       "      <th>Second year:   Sem 1</th>\n",
       "      <th>Second year:   Sem 2</th>\n",
       "    </tr>\n",
       "  </thead>\n",
       "  <tbody>\n",
       "    <tr>\n",
       "      <th>count</th>\n",
       "      <td>6.400000e+01</td>\n",
       "      <td>64.000000</td>\n",
       "      <td>64.000000</td>\n",
       "      <td>64.000000</td>\n",
       "      <td>64.000000</td>\n",
       "    </tr>\n",
       "    <tr>\n",
       "      <th>mean</th>\n",
       "      <td>8.623097e+09</td>\n",
       "      <td>8.834219</td>\n",
       "      <td>9.095469</td>\n",
       "      <td>9.292031</td>\n",
       "      <td>9.377187</td>\n",
       "    </tr>\n",
       "    <tr>\n",
       "      <th>std</th>\n",
       "      <td>9.132070e+08</td>\n",
       "      <td>11.187839</td>\n",
       "      <td>11.171986</td>\n",
       "      <td>0.528523</td>\n",
       "      <td>0.495185</td>\n",
       "    </tr>\n",
       "    <tr>\n",
       "      <th>min</th>\n",
       "      <td>7.028870e+09</td>\n",
       "      <td>0.000000</td>\n",
       "      <td>0.000000</td>\n",
       "      <td>6.900000</td>\n",
       "      <td>7.200000</td>\n",
       "    </tr>\n",
       "    <tr>\n",
       "      <th>25%</th>\n",
       "      <td>7.766559e+09</td>\n",
       "      <td>7.237500</td>\n",
       "      <td>7.655000</td>\n",
       "      <td>9.050000</td>\n",
       "      <td>9.140000</td>\n",
       "    </tr>\n",
       "    <tr>\n",
       "      <th>50%</th>\n",
       "      <td>8.805720e+09</td>\n",
       "      <td>8.260000</td>\n",
       "      <td>8.400000</td>\n",
       "      <td>9.445000</td>\n",
       "      <td>9.450000</td>\n",
       "    </tr>\n",
       "    <tr>\n",
       "      <th>75%</th>\n",
       "      <td>9.335094e+09</td>\n",
       "      <td>8.802500</td>\n",
       "      <td>9.115000</td>\n",
       "      <td>9.645000</td>\n",
       "      <td>9.725000</td>\n",
       "    </tr>\n",
       "    <tr>\n",
       "      <th>max</th>\n",
       "      <td>9.975810e+09</td>\n",
       "      <td>95.000000</td>\n",
       "      <td>95.000000</td>\n",
       "      <td>9.910000</td>\n",
       "      <td>9.950000</td>\n",
       "    </tr>\n",
       "  </tbody>\n",
       "</table>\n",
       "</div>"
      ],
      "text/plain": [
       "         Mobile No.  First year:   Sem 1  First year:   Sem 2  \\\n",
       "count  6.400000e+01            64.000000            64.000000   \n",
       "mean   8.623097e+09             8.834219             9.095469   \n",
       "std    9.132070e+08            11.187839            11.171986   \n",
       "min    7.028870e+09             0.000000             0.000000   \n",
       "25%    7.766559e+09             7.237500             7.655000   \n",
       "50%    8.805720e+09             8.260000             8.400000   \n",
       "75%    9.335094e+09             8.802500             9.115000   \n",
       "max    9.975810e+09            95.000000            95.000000   \n",
       "\n",
       "       Second year:   Sem 1  Second year:   Sem 2  \n",
       "count             64.000000             64.000000  \n",
       "mean               9.292031              9.377187  \n",
       "std                0.528523              0.495185  \n",
       "min                6.900000              7.200000  \n",
       "25%                9.050000              9.140000  \n",
       "50%                9.445000              9.450000  \n",
       "75%                9.645000              9.725000  \n",
       "max                9.910000              9.950000  "
      ]
     },
     "execution_count": 8,
     "metadata": {},
     "output_type": "execute_result"
    }
   ],
   "source": [
    "# Describtion about the dataset\n",
    "data.describe()"
   ]
  },
  {
   "cell_type": "code",
   "execution_count": 9,
   "id": "f60216fb",
   "metadata": {},
   "outputs": [
    {
     "name": "stdout",
     "output_type": "stream",
     "text": [
      "<class 'pandas.core.frame.DataFrame'>\n",
      "RangeIndex: 64 entries, 0 to 63\n",
      "Data columns (total 11 columns):\n",
      " #   Column                Non-Null Count  Dtype  \n",
      "---  ------                --------------  -----  \n",
      " 0   Timestamp             64 non-null     object \n",
      " 1   Email Address         64 non-null     object \n",
      " 2   Name                  64 non-null     object \n",
      " 3   Email                 64 non-null     object \n",
      " 4   Roll no               64 non-null     object \n",
      " 5   PRN No.               64 non-null     object \n",
      " 6   Mobile No.            64 non-null     int64  \n",
      " 7   First year:   Sem 1   64 non-null     float64\n",
      " 8   First year:   Sem 2   64 non-null     float64\n",
      " 9   Second year:   Sem 1  64 non-null     float64\n",
      " 10  Second year:   Sem 2  64 non-null     float64\n",
      "dtypes: float64(4), int64(1), object(6)\n",
      "memory usage: 5.6+ KB\n"
     ]
    }
   ],
   "source": [
    "# Information about the dataset\n",
    "data.info()"
   ]
  },
  {
   "cell_type": "code",
   "execution_count": 10,
   "id": "faef3837",
   "metadata": {},
   "outputs": [
    {
     "name": "stdout",
     "output_type": "stream",
     "text": [
      "The column names of the dataset are as follows: \n"
     ]
    },
    {
     "data": {
      "text/plain": [
       "Index(['Timestamp', 'Email Address', 'Name', 'Email', 'Roll no ', 'PRN No.',\n",
       "       'Mobile No.', 'First year:   Sem 1', 'First year:   Sem 2',\n",
       "       'Second year:   Sem 1', 'Second year:   Sem 2'],\n",
       "      dtype='object')"
      ]
     },
     "execution_count": 10,
     "metadata": {},
     "output_type": "execute_result"
    }
   ],
   "source": [
    "print(\"The column names of the dataset are as follows: \")\n",
    "data.columns"
   ]
  },
  {
   "cell_type": "code",
   "execution_count": 11,
   "id": "ec1baad9",
   "metadata": {},
   "outputs": [
    {
     "data": {
      "text/plain": [
       "Timestamp               0\n",
       "Email Address           0\n",
       "Name                    0\n",
       "Email                   0\n",
       "Roll no                 0\n",
       "PRN No.                 0\n",
       "Mobile No.              0\n",
       "First year:   Sem 1     0\n",
       "First year:   Sem 2     0\n",
       "Second year:   Sem 1    0\n",
       "Second year:   Sem 2    0\n",
       "dtype: int64"
      ]
     },
     "execution_count": 11,
     "metadata": {},
     "output_type": "execute_result"
    }
   ],
   "source": [
    "data.isnull().sum()"
   ]
  },
  {
   "cell_type": "markdown",
   "id": "c0ca43a4",
   "metadata": {},
   "source": [
    "Here, we can see that there are no null values. Hence, there is no need of data cleaning or replacing NULL values"
   ]
  },
  {
   "cell_type": "code",
   "execution_count": 12,
   "id": "b51a8a62",
   "metadata": {},
   "outputs": [
    {
     "data": {
      "text/html": [
       "<div>\n",
       "<style scoped>\n",
       "    .dataframe tbody tr th:only-of-type {\n",
       "        vertical-align: middle;\n",
       "    }\n",
       "\n",
       "    .dataframe tbody tr th {\n",
       "        vertical-align: top;\n",
       "    }\n",
       "\n",
       "    .dataframe thead th {\n",
       "        text-align: right;\n",
       "    }\n",
       "</style>\n",
       "<table border=\"1\" class=\"dataframe\">\n",
       "  <thead>\n",
       "    <tr style=\"text-align: right;\">\n",
       "      <th></th>\n",
       "      <th>Timestamp</th>\n",
       "      <th>Email Address</th>\n",
       "      <th>Name</th>\n",
       "      <th>Email</th>\n",
       "      <th>Roll no</th>\n",
       "      <th>PRN No.</th>\n",
       "      <th>Mobile No.</th>\n",
       "      <th>First year:   Sem 1</th>\n",
       "      <th>First year:   Sem 2</th>\n",
       "      <th>Second year:   Sem 1</th>\n",
       "      <th>Second year:   Sem 2</th>\n",
       "    </tr>\n",
       "  </thead>\n",
       "  <tbody>\n",
       "    <tr>\n",
       "      <th>0</th>\n",
       "      <td>1/17/2022 12:45:09</td>\n",
       "      <td>sejal.zambare19@pccoepune.org</td>\n",
       "      <td>Sejal Zambare</td>\n",
       "      <td>sejal.zambare19@gmail.com</td>\n",
       "      <td>359</td>\n",
       "      <td>72026841K</td>\n",
       "      <td>8208217782</td>\n",
       "      <td>8.40</td>\n",
       "      <td>8.60</td>\n",
       "      <td>9.80</td>\n",
       "      <td>9.90</td>\n",
       "    </tr>\n",
       "    <tr>\n",
       "      <th>1</th>\n",
       "      <td>1/17/2022 12:45:44</td>\n",
       "      <td>rushikesh.thorat19@pccoepune.org</td>\n",
       "      <td>Rushikesh Vilas Thorat</td>\n",
       "      <td>rushikesh.thorat19@pccoepune.org</td>\n",
       "      <td>347</td>\n",
       "      <td>72026776F</td>\n",
       "      <td>9021261925</td>\n",
       "      <td>8.14</td>\n",
       "      <td>8.14</td>\n",
       "      <td>9.32</td>\n",
       "      <td>9.82</td>\n",
       "    </tr>\n",
       "    <tr>\n",
       "      <th>2</th>\n",
       "      <td>1/17/2022 12:46:10</td>\n",
       "      <td>atharv.sontakke19@pccoepune.org</td>\n",
       "      <td>Atharv Sontakke</td>\n",
       "      <td>atharv123sontakke@gmail.com</td>\n",
       "      <td>340</td>\n",
       "      <td>72026742M</td>\n",
       "      <td>9009804629</td>\n",
       "      <td>6.61</td>\n",
       "      <td>6.61</td>\n",
       "      <td>9.14</td>\n",
       "      <td>9.14</td>\n",
       "    </tr>\n",
       "    <tr>\n",
       "      <th>3</th>\n",
       "      <td>1/17/2022 12:46:21</td>\n",
       "      <td>amisha.sherekar19@pccoepune.org</td>\n",
       "      <td>Amisha Sunil Sherekar</td>\n",
       "      <td>amisha.sherekar19@pccoepune.org</td>\n",
       "      <td>328</td>\n",
       "      <td>72026696D</td>\n",
       "      <td>8698227548</td>\n",
       "      <td>7.20</td>\n",
       "      <td>7.30</td>\n",
       "      <td>8.90</td>\n",
       "      <td>9.20</td>\n",
       "    </tr>\n",
       "    <tr>\n",
       "      <th>4</th>\n",
       "      <td>1/17/2022 12:46:31</td>\n",
       "      <td>saurabh.sawardekar19@pccoepune.org</td>\n",
       "      <td>Saurabh Raju Sawardekar</td>\n",
       "      <td>saurabh.sawardekar19@pccoepune.org</td>\n",
       "      <td>326</td>\n",
       "      <td>72026682D</td>\n",
       "      <td>7774072850</td>\n",
       "      <td>7.05</td>\n",
       "      <td>7.45</td>\n",
       "      <td>9.05</td>\n",
       "      <td>9.40</td>\n",
       "    </tr>\n",
       "  </tbody>\n",
       "</table>\n",
       "</div>"
      ],
      "text/plain": [
       "            Timestamp                       Email Address  \\\n",
       "0  1/17/2022 12:45:09       sejal.zambare19@pccoepune.org   \n",
       "1  1/17/2022 12:45:44    rushikesh.thorat19@pccoepune.org   \n",
       "2  1/17/2022 12:46:10     atharv.sontakke19@pccoepune.org   \n",
       "3  1/17/2022 12:46:21     amisha.sherekar19@pccoepune.org   \n",
       "4  1/17/2022 12:46:31  saurabh.sawardekar19@pccoepune.org   \n",
       "\n",
       "                      Name                               Email Roll no   \\\n",
       "0            Sejal Zambare           sejal.zambare19@gmail.com      359   \n",
       "1   Rushikesh Vilas Thorat    rushikesh.thorat19@pccoepune.org      347   \n",
       "2          Atharv Sontakke         atharv123sontakke@gmail.com      340   \n",
       "3    Amisha Sunil Sherekar     amisha.sherekar19@pccoepune.org      328   \n",
       "4  Saurabh Raju Sawardekar  saurabh.sawardekar19@pccoepune.org      326   \n",
       "\n",
       "     PRN No.  Mobile No.  First year:   Sem 1  First year:   Sem 2  \\\n",
       "0  72026841K  8208217782                 8.40                 8.60   \n",
       "1  72026776F  9021261925                 8.14                 8.14   \n",
       "2  72026742M  9009804629                 6.61                 6.61   \n",
       "3  72026696D  8698227548                 7.20                 7.30   \n",
       "4  72026682D  7774072850                 7.05                 7.45   \n",
       "\n",
       "   Second year:   Sem 1  Second year:   Sem 2  \n",
       "0                  9.80                  9.90  \n",
       "1                  9.32                  9.82  \n",
       "2                  9.14                  9.14  \n",
       "3                  8.90                  9.20  \n",
       "4                  9.05                  9.40  "
      ]
     },
     "execution_count": 12,
     "metadata": {},
     "output_type": "execute_result"
    }
   ],
   "source": [
    "# Converting the roll numbers from TECOC342 --> 342\n",
    "for index, value in data['Roll no '].items():\n",
    "    data.at[index, 'Roll no '] = value[-3:]\n",
    "data.head()\n"
   ]
  },
  {
   "cell_type": "markdown",
   "id": "7ef276e4",
   "metadata": {},
   "source": [
    "## Outliers"
   ]
  },
  {
   "cell_type": "code",
   "execution_count": 13,
   "id": "fdc75346",
   "metadata": {},
   "outputs": [
    {
     "data": {
      "text/plain": [
       "<Axes: ylabel='First year:   Sem 1'>"
      ]
     },
     "execution_count": 13,
     "metadata": {},
     "output_type": "execute_result"
    },
    {
     "data": {
      "image/png": "[encoded data removed]",
      "text/plain": [
       "<Figure size 640x480 with 1 Axes>"
      ]
     },
     "metadata": {},
     "output_type": "display_data"
    }
   ],
   "source": [
    "sns.boxplot(y=data['First year:   Sem 1'])"
   ]
  },
  {
   "cell_type": "code",
   "execution_count": 14,
   "id": "ce2abee6",
   "metadata": {},
   "outputs": [
    {
     "data": {
      "text/plain": [
       "<Axes: ylabel='First year:   Sem 2'>"
      ]
     },
     "execution_count": 14,
     "metadata": {},
     "output_type": "execute_result"
    },
    {
     "data": {
      "image/png": "[encoded data removed]",
      "text/plain": [
       "<Figure size 640x480 with 1 Axes>"
      ]
     },
     "metadata": {},
     "output_type": "display_data"
    }
   ],
   "source": [
    "sns.boxplot(y=data['First year:   Sem 2'])"
   ]
  },
  {
   "cell_type": "code",
   "execution_count": 15,
   "id": "ac16a9a6",
   "metadata": {},
   "outputs": [
    {
     "data": {
      "text/plain": [
       "<Axes: ylabel='Second year:   Sem 1'>"
      ]
     },
     "execution_count": 15,
     "metadata": {},
     "output_type": "execute_result"
    },
    {
     "data": {
      "image/png": "[encoded data removed]",
      "text/plain": [
       "<Figure size 640x480 with 1 Axes>"
      ]
     },
     "metadata": {},
     "output_type": "display_data"
    }
   ],
   "source": [
    "sns.boxplot(y=data[\"Second year:   Sem 1\"])"
   ]
  },
  {
   "cell_type": "code",
   "execution_count": 16,
   "id": "91714b6a",
   "metadata": {},
   "outputs": [
    {
     "data": {
      "text/plain": [
       "<Axes: ylabel='Second year:   Sem 2'>"
      ]
     },
     "execution_count": 16,
     "metadata": {},
     "output_type": "execute_result"
    },
    {
     "data": {
      "image/png": "[encoded data removed]",
      "text/plain": [
       "<Figure size 640x480 with 1 Axes>"
      ]
     },
     "metadata": {},
     "output_type": "display_data"
    }
   ],
   "source": [
    "sns.boxplot(y=data[\"Second year:   Sem 2\"])"
   ]
  },
  {
   "cell_type": "markdown",
   "id": "b2227309",
   "metadata": {},
   "source": [
    "Here, we have visualized the outliers for the results column in the dataset"
   ]
  },
  {
   "cell_type": "code",
   "execution_count": 22,
   "id": "c159e340-ac4a-43c2-89e6-9d5f695aa085",
   "metadata": {},
   "outputs": [],
   "source": [
    "def detect_outliers_iqr(data):\n",
    "    Q1 = np.percentile(data, 25)\n",
    "    Q3 = np.percentile(data, 75)\n",
    "    IQR = Q3 - Q1\n",
    "    lower_bound = Q1 - 1.5 * IQR\n",
    "    upper_bound = Q3 + 1.5 * IQR\n",
    "    outliers = (data < lower_bound) | (data > upper_bound)\n",
    "    return outliers"
   ]
  },
  {
   "cell_type": "code",
   "execution_count": 17,
   "id": "b08752d7-6343-41e3-a8d1-06c6052cb714",
   "metadata": {},
   "outputs": [],
   "source": [
    "def detect_outliers_iqr(data):\n",
    "    # Convert data to numeric type\n",
    "    data_numeric = pd.to_numeric(data, errors='coerce')\n",
    "    \n",
    "    # Calculate quartiles and IQR\n",
    "    Q1 = np.percentile(data_numeric.dropna(), 25)\n",
    "    Q3 = np.percentile(data_numeric.dropna(), 75)\n",
    "    IQR = Q3 - Q1\n",
    "    \n",
    "    # Calculate lower and upper bounds for outliers\n",
    "    lower_bound = Q1 - 1.5 * IQR\n",
    "    upper_bound = Q3 + 1.5 * IQR\n",
    "    \n",
    "    # Detect outliers\n",
    "    outliers = (data_numeric < lower_bound) | (data_numeric > upper_bound)\n",
    "    \n",
    "    return outliers\n",
    "\n",
    "# Example usage\n",
    "outliers_FY_1 = detect_outliers_iqr(data['First year:   Sem 1'])\n"
   ]
  },
  {
   "cell_type": "code",
   "execution_count": 18,
   "id": "2a919f0a-8688-445a-9985-740482232234",
   "metadata": {},
   "outputs": [
    {
     "data": {
      "text/plain": [
       "0     False\n",
       "1     False\n",
       "2     False\n",
       "3     False\n",
       "4     False\n",
       "      ...  \n",
       "59     True\n",
       "60    False\n",
       "61    False\n",
       "62    False\n",
       "63    False\n",
       "Name: First year:   Sem 1, Length: 64, dtype: bool"
      ]
     },
     "execution_count": 18,
     "metadata": {},
     "output_type": "execute_result"
    }
   ],
   "source": [
    "outliers_FY_1"
   ]
  },
  {
   "cell_type": "code",
   "execution_count": 19,
   "id": "fe4fa512-eb7a-4fc3-b92e-09198f815258",
   "metadata": {},
   "outputs": [],
   "source": [
    "outliers_FY_2 = detect_outliers_iqr(data['First year:   Sem 2'])"
   ]
  },
  {
   "cell_type": "code",
   "execution_count": 37,
   "id": "0050067d-8c83-4d36-b6da-de3807c99bb8",
   "metadata": {},
   "outputs": [
    {
     "data": {
      "text/plain": [
       "0     False\n",
       "1     False\n",
       "2     False\n",
       "3     False\n",
       "4     False\n",
       "      ...  \n",
       "59     True\n",
       "60    False\n",
       "61    False\n",
       "62    False\n",
       "63    False\n",
       "Name: First year:   Sem 2, Length: 64, dtype: bool"
      ]
     },
     "execution_count": 37,
     "metadata": {},
     "output_type": "execute_result"
    }
   ],
   "source": [
    "outliers_FY_2"
   ]
  },
  {
   "cell_type": "code",
   "execution_count": 20,
   "id": "09f4c8e5-9518-4718-a963-c929bc6a3eb1",
   "metadata": {},
   "outputs": [
    {
     "data": {
      "text/plain": [
       "0     False\n",
       "1     False\n",
       "2     False\n",
       "3     False\n",
       "4     False\n",
       "      ...  \n",
       "59    False\n",
       "60    False\n",
       "61    False\n",
       "62    False\n",
       "63    False\n",
       "Name: Second year:   Sem 1, Length: 64, dtype: bool"
      ]
     },
     "execution_count": 20,
     "metadata": {},
     "output_type": "execute_result"
    }
   ],
   "source": [
    "outliers_SE_1 = detect_outliers_iqr(data['Second year:   Sem 1'])\n",
    "outliers_SE_1"
   ]
  },
  {
   "cell_type": "code",
   "execution_count": 21,
   "id": "b8393ecd-3bda-46bf-8c4b-41452a0fbea4",
   "metadata": {},
   "outputs": [
    {
     "data": {
      "text/plain": [
       "0     False\n",
       "1     False\n",
       "2     False\n",
       "3     False\n",
       "4     False\n",
       "      ...  \n",
       "59    False\n",
       "60    False\n",
       "61    False\n",
       "62    False\n",
       "63    False\n",
       "Name: Second year:   Sem 2, Length: 64, dtype: bool"
      ]
     },
     "execution_count": 21,
     "metadata": {},
     "output_type": "execute_result"
    }
   ],
   "source": [
    "outliers_SE_2 = detect_outliers_iqr(data['Second year:   Sem 2'])\n",
    "outliers_SE_2"
   ]
  },
  {
   "cell_type": "code",
   "execution_count": null,
   "id": "3bd7d2d4-7856-40ee-82a9-b51acc5ca74e",
   "metadata": {},
   "outputs": [],
   "source": []
  }
 ],
 "metadata": {
  "kernelspec": {
   "display_name": "Python 3 (ipykernel)",
   "language": "python",
   "name": "python3"
  },
  "language_info": {
   "codemirror_mode": {
    "name": "ipython",
    "version": 3
   },
   "file_extension": ".py",
   "mimetype": "text/x-python",
   "name": "python",
   "nbconvert_exporter": "python",
   "pygments_lexer": "ipython3",
   "version": "3.12.2"
  }
 },
 "nbformat": 4,
 "nbformat_minor": 5
}
