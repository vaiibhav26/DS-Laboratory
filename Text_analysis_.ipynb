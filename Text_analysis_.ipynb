{
  "nbformat": 4,
  "nbformat_minor": 0,
  "metadata": {
    "colab": {
      "provenance": []
    },
    "kernelspec": {
      "name": "python3",
      "display_name": "Python 3"
    },
    "language_info": {
      "name": "python"
    }
  },
  "cells": [
    {
      "cell_type": "code",
      "execution_count": 12,
      "metadata": {
        "colab": {
          "base_uri": "https://localhost:8080/"
        },
        "id": "E0G306R6XMmV",
        "outputId": "5b5c50c3-7a6b-4b71-abee-388af86d75d7"
      },
      "outputs": [
        {
          "output_type": "stream",
          "name": "stdout",
          "text": [
            "Tokenization: ['Real', 'madrid', 'is', 'set', 'to', 'win', 'the', 'UCL', 'for', 'the', 'season.Benzema', 'might', 'win', 'Balon', 'dor', '.', 'Salah', 'might', 'be', 'the', 'runner', 'up', '.']\n",
            "\n",
            "POS Tagging: [('Real', 'JJ'), ('madrid', 'NN'), ('is', 'VBZ'), ('set', 'VBN'), ('to', 'TO'), ('win', 'VB'), ('the', 'DT'), ('UCL', 'NNP'), ('for', 'IN'), ('the', 'DT'), ('season.Benzema', 'NN'), ('might', 'MD'), ('win', 'VB'), ('Balon', 'NNP'), ('dor', 'NN'), ('.', '.'), ('Salah', 'NNP'), ('might', 'MD'), ('be', 'VB'), ('the', 'DT'), ('runner', 'NN'), ('up', 'RP'), ('.', '.')]\n",
            "\n",
            "Stop words removal: ['Real', 'madrid', 'set', 'win', 'UCL', 'might', 'win', 'Balon', 'dor', 'Salah', 'might', 'runner']\n",
            "\n",
            "Stemming: ['real', 'madrid', 'set', 'win', 'ucl', 'might', 'win', 'balon', 'dor', 'salah', 'might', 'runner']\n",
            "\n",
            "Lemmatization: ['Real', 'madrid', 'set', 'win', 'UCL', 'might', 'win', 'Balon', 'dor', 'Salah', 'might', 'runner']\n",
            "\n",
            "TF: <FreqDist with 10 samples and 12 outcomes>\n",
            "\n",
            "IDF: {'balon': 1.0, 'be': 1.0, 'benzema': 1.0, 'dor': 1.0, 'for': 1.0, 'is': 1.0, 'madrid': 1.0, 'might': 1.0, 'real': 1.0, 'runner': 1.0, 'salah': 1.0, 'season': 1.0, 'set': 1.0, 'the': 1.0, 'to': 1.0, 'ucl': 1.0, 'up': 1.0, 'win': 1.0}\n"
          ]
        }
      ],
      "source": [
        "import nltk\n",
        "from nltk.corpus import stopwords\n",
        "from nltk.tokenize import word_tokenize\n",
        "from nltk.stem import PorterStemmer, WordNetLemmatizer\n",
        "from nltk.probability import FreqDist\n",
        "from nltk.corpus import wordnet\n",
        "import string\n",
        "from sklearn.feature_extraction.text import TfidfVectorizer\n",
        "#!python -m nltk.downloader averaged_perceptron_tagger\n",
        "\n",
        "# Sample document\n",
        "sample_document = \"Real madrid is set to win the UCL for the season.Benzema might win Balon dor. Salah might be the runner up.\"\n",
        "\n",
        "# Tokenization\n",
        "tokens = word_tokenize(sample_document)\n",
        "\n",
        "# POS tagging\n",
        "pos_tags = nltk.pos_tag(tokens)\n",
        "\n",
        "# Stop words removal\n",
        "stop_words = set(stopwords.words('english'))\n",
        "filtered_tokens = [word for word in tokens if word.lower() not in stop_words and word.isalpha()]\n",
        "\n",
        "# Stemming\n",
        "porter = PorterStemmer()\n",
        "stemmed_tokens = [porter.stem(word) for word in filtered_tokens]\n",
        "\n",
        "# Lemmatization\n",
        "lemmatizer = WordNetLemmatizer()\n",
        "lemmatized_tokens = [lemmatizer.lemmatize(word) for word in filtered_tokens]\n",
        "\n",
        "# Calculate Term Frequency (TF)\n",
        "tf = FreqDist(lemmatized_tokens)\n",
        "\n",
        "# Calculate Inverse Document Frequency (IDF)\n",
        "corpus = [sample_document]\n",
        "vectorizer = TfidfVectorizer()\n",
        "X = vectorizer.fit_transform(corpus)\n",
        "idf = dict(zip(vectorizer.get_feature_names_out(), vectorizer.idf_))\n",
        "\n",
        "print(\"Tokenization:\", tokens)\n",
        "print(\"\\nPOS Tagging:\", pos_tags)\n",
        "print(\"\\nStop words removal:\", filtered_tokens)\n",
        "print(\"\\nStemming:\", stemmed_tokens)\n",
        "print(\"\\nLemmatization:\", lemmatized_tokens)\n",
        "print(\"\\nTF:\", tf)\n",
        "print(\"\\nIDF:\", idf)\n"
      ]
    },
    {
      "cell_type": "code",
      "source": [
        "tokens"
      ],
      "metadata": {
        "colab": {
          "base_uri": "https://localhost:8080/"
        },
        "id": "T1ueYedsCqYP",
        "outputId": "e926c726-3b05-4278-8087-33002eb0f7b9"
      },
      "execution_count": 16,
      "outputs": [
        {
          "output_type": "execute_result",
          "data": {
            "text/plain": [
              "['Real',\n",
              " 'madrid',\n",
              " 'is',\n",
              " 'set',\n",
              " 'to',\n",
              " 'win',\n",
              " 'the',\n",
              " 'UCL',\n",
              " 'for',\n",
              " 'the',\n",
              " 'season.Benzema',\n",
              " 'might',\n",
              " 'win',\n",
              " 'Balon',\n",
              " 'dor',\n",
              " '.',\n",
              " 'Salah',\n",
              " 'might',\n",
              " 'be',\n",
              " 'the',\n",
              " 'runner',\n",
              " 'up',\n",
              " '.']"
            ]
          },
          "metadata": {},
          "execution_count": 16
        }
      ]
    },
    {
      "cell_type": "code",
      "source": [
        "pos_tags"
      ],
      "metadata": {
        "colab": {
          "base_uri": "https://localhost:8080/"
        },
        "id": "tW9TGPvACqar",
        "outputId": "8f57c487-a1a2-4342-ae63-a702690891a9"
      },
      "execution_count": 17,
      "outputs": [
        {
          "output_type": "execute_result",
          "data": {
            "text/plain": [
              "[('Real', 'JJ'),\n",
              " ('madrid', 'NN'),\n",
              " ('is', 'VBZ'),\n",
              " ('set', 'VBN'),\n",
              " ('to', 'TO'),\n",
              " ('win', 'VB'),\n",
              " ('the', 'DT'),\n",
              " ('UCL', 'NNP'),\n",
              " ('for', 'IN'),\n",
              " ('the', 'DT'),\n",
              " ('season.Benzema', 'NN'),\n",
              " ('might', 'MD'),\n",
              " ('win', 'VB'),\n",
              " ('Balon', 'NNP'),\n",
              " ('dor', 'NN'),\n",
              " ('.', '.'),\n",
              " ('Salah', 'NNP'),\n",
              " ('might', 'MD'),\n",
              " ('be', 'VB'),\n",
              " ('the', 'DT'),\n",
              " ('runner', 'NN'),\n",
              " ('up', 'RP'),\n",
              " ('.', '.')]"
            ]
          },
          "metadata": {},
          "execution_count": 17
        }
      ]
    },
    {
      "cell_type": "code",
      "source": [
        "stemmed_tokens"
      ],
      "metadata": {
        "colab": {
          "base_uri": "https://localhost:8080/"
        },
        "id": "IhxVFCpAC5ls",
        "outputId": "0aa3c60f-bd92-497a-b2e1-2bff3adac910"
      },
      "execution_count": 19,
      "outputs": [
        {
          "output_type": "execute_result",
          "data": {
            "text/plain": [
              "['real',\n",
              " 'madrid',\n",
              " 'set',\n",
              " 'win',\n",
              " 'ucl',\n",
              " 'might',\n",
              " 'win',\n",
              " 'balon',\n",
              " 'dor',\n",
              " 'salah',\n",
              " 'might',\n",
              " 'runner']"
            ]
          },
          "metadata": {},
          "execution_count": 19
        }
      ]
    },
    {
      "cell_type": "code",
      "source": [
        "lemmatized_tokens"
      ],
      "metadata": {
        "colab": {
          "base_uri": "https://localhost:8080/"
        },
        "id": "LUnaPaMpC8uX",
        "outputId": "c0d25210-d1eb-4b53-8b34-31e87895c292"
      },
      "execution_count": 20,
      "outputs": [
        {
          "output_type": "execute_result",
          "data": {
            "text/plain": [
              "['Real',\n",
              " 'madrid',\n",
              " 'set',\n",
              " 'win',\n",
              " 'UCL',\n",
              " 'might',\n",
              " 'win',\n",
              " 'Balon',\n",
              " 'dor',\n",
              " 'Salah',\n",
              " 'might',\n",
              " 'runner']"
            ]
          },
          "metadata": {},
          "execution_count": 20
        }
      ]
    },
    {
      "cell_type": "code",
      "source": [
        "tf"
      ],
      "metadata": {
        "colab": {
          "base_uri": "https://localhost:8080/"
        },
        "id": "m_9kHbOKDAJw",
        "outputId": "b52723e9-0d8e-4c33-b0d5-b3dd19fcad37"
      },
      "execution_count": 21,
      "outputs": [
        {
          "output_type": "execute_result",
          "data": {
            "text/plain": [
              "FreqDist({'win': 2, 'might': 2, 'Real': 1, 'madrid': 1, 'set': 1, 'UCL': 1, 'Balon': 1, 'dor': 1, 'Salah': 1, 'runner': 1})"
            ]
          },
          "metadata": {},
          "execution_count": 21
        }
      ]
    },
    {
      "cell_type": "code",
      "source": [
        "idf"
      ],
      "metadata": {
        "colab": {
          "base_uri": "https://localhost:8080/"
        },
        "id": "1AacyYkXDB3q",
        "outputId": "066afc27-46dc-4d74-d4d0-b25d7db396c0"
      },
      "execution_count": 22,
      "outputs": [
        {
          "output_type": "execute_result",
          "data": {
            "text/plain": [
              "{'balon': 1.0,\n",
              " 'be': 1.0,\n",
              " 'benzema': 1.0,\n",
              " 'dor': 1.0,\n",
              " 'for': 1.0,\n",
              " 'is': 1.0,\n",
              " 'madrid': 1.0,\n",
              " 'might': 1.0,\n",
              " 'real': 1.0,\n",
              " 'runner': 1.0,\n",
              " 'salah': 1.0,\n",
              " 'season': 1.0,\n",
              " 'set': 1.0,\n",
              " 'the': 1.0,\n",
              " 'to': 1.0,\n",
              " 'ucl': 1.0,\n",
              " 'up': 1.0,\n",
              " 'win': 1.0}"
            ]
          },
          "metadata": {},
          "execution_count": 22
        }
      ]
    },
    {
      "cell_type": "code",
      "source": [],
      "metadata": {
        "id": "pP5BfpjjDDMc"
      },
      "execution_count": null,
      "outputs": []
    }
  ]
}